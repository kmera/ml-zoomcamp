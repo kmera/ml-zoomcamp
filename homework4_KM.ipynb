{
 "cells": [
  {
   "cell_type": "code",
   "execution_count": 1,
   "id": "da3f7403",
   "metadata": {},
   "outputs": [],
   "source": [
    "import pandas as pd\n",
    "import numpy as np\n",
    "\n",
    "import matplotlib.pyplot as plt\n",
    "\n",
    "from sklearn.model_selection import train_test_split, KFold\n",
    "from sklearn.feature_extraction import DictVectorizer\n",
    "from sklearn.linear_model import LogisticRegression\n",
    "\n",
    "from sklearn.metrics import roc_auc_score, roc_curve, auc, precision_score, recall_score, f1_score\n",
    "\n",
    "from tqdm.auto import tqdm"
   ]
  },
  {
   "cell_type": "code",
   "execution_count": 2,
   "id": "e1e792ab",
   "metadata": {},
   "outputs": [
    {
     "data": {
      "text/html": [
       "<div>\n",
       "<style scoped>\n",
       "    .dataframe tbody tr th:only-of-type {\n",
       "        vertical-align: middle;\n",
       "    }\n",
       "\n",
       "    .dataframe tbody tr th {\n",
       "        vertical-align: top;\n",
       "    }\n",
       "\n",
       "    .dataframe thead th {\n",
       "        text-align: right;\n",
       "    }\n",
       "</style>\n",
       "<table border=\"1\" class=\"dataframe\">\n",
       "  <thead>\n",
       "    <tr style=\"text-align: right;\">\n",
       "      <th></th>\n",
       "      <th>card</th>\n",
       "      <th>reports</th>\n",
       "      <th>age</th>\n",
       "      <th>income</th>\n",
       "      <th>share</th>\n",
       "      <th>expenditure</th>\n",
       "      <th>owner</th>\n",
       "      <th>selfemp</th>\n",
       "      <th>dependents</th>\n",
       "      <th>months</th>\n",
       "      <th>majorcards</th>\n",
       "      <th>active</th>\n",
       "    </tr>\n",
       "  </thead>\n",
       "  <tbody>\n",
       "    <tr>\n",
       "      <th>0</th>\n",
       "      <td>yes</td>\n",
       "      <td>0</td>\n",
       "      <td>37.66667</td>\n",
       "      <td>4.5200</td>\n",
       "      <td>0.033270</td>\n",
       "      <td>124.983300</td>\n",
       "      <td>yes</td>\n",
       "      <td>no</td>\n",
       "      <td>3</td>\n",
       "      <td>54</td>\n",
       "      <td>1</td>\n",
       "      <td>12</td>\n",
       "    </tr>\n",
       "    <tr>\n",
       "      <th>1</th>\n",
       "      <td>yes</td>\n",
       "      <td>0</td>\n",
       "      <td>33.25000</td>\n",
       "      <td>2.4200</td>\n",
       "      <td>0.005217</td>\n",
       "      <td>9.854167</td>\n",
       "      <td>no</td>\n",
       "      <td>no</td>\n",
       "      <td>3</td>\n",
       "      <td>34</td>\n",
       "      <td>1</td>\n",
       "      <td>13</td>\n",
       "    </tr>\n",
       "    <tr>\n",
       "      <th>2</th>\n",
       "      <td>yes</td>\n",
       "      <td>0</td>\n",
       "      <td>33.66667</td>\n",
       "      <td>4.5000</td>\n",
       "      <td>0.004156</td>\n",
       "      <td>15.000000</td>\n",
       "      <td>yes</td>\n",
       "      <td>no</td>\n",
       "      <td>4</td>\n",
       "      <td>58</td>\n",
       "      <td>1</td>\n",
       "      <td>5</td>\n",
       "    </tr>\n",
       "    <tr>\n",
       "      <th>3</th>\n",
       "      <td>yes</td>\n",
       "      <td>0</td>\n",
       "      <td>30.50000</td>\n",
       "      <td>2.5400</td>\n",
       "      <td>0.065214</td>\n",
       "      <td>137.869200</td>\n",
       "      <td>no</td>\n",
       "      <td>no</td>\n",
       "      <td>0</td>\n",
       "      <td>25</td>\n",
       "      <td>1</td>\n",
       "      <td>7</td>\n",
       "    </tr>\n",
       "    <tr>\n",
       "      <th>4</th>\n",
       "      <td>yes</td>\n",
       "      <td>0</td>\n",
       "      <td>32.16667</td>\n",
       "      <td>9.7867</td>\n",
       "      <td>0.067051</td>\n",
       "      <td>546.503300</td>\n",
       "      <td>yes</td>\n",
       "      <td>no</td>\n",
       "      <td>2</td>\n",
       "      <td>64</td>\n",
       "      <td>1</td>\n",
       "      <td>5</td>\n",
       "    </tr>\n",
       "  </tbody>\n",
       "</table>\n",
       "</div>"
      ],
      "text/plain": [
       "  card  reports       age  income     share  expenditure owner selfemp  \\\n",
       "0  yes        0  37.66667  4.5200  0.033270   124.983300   yes      no   \n",
       "1  yes        0  33.25000  2.4200  0.005217     9.854167    no      no   \n",
       "2  yes        0  33.66667  4.5000  0.004156    15.000000   yes      no   \n",
       "3  yes        0  30.50000  2.5400  0.065214   137.869200    no      no   \n",
       "4  yes        0  32.16667  9.7867  0.067051   546.503300   yes      no   \n",
       "\n",
       "   dependents  months  majorcards  active  \n",
       "0           3      54           1      12  \n",
       "1           3      34           1      13  \n",
       "2           4      58           1       5  \n",
       "3           0      25           1       7  \n",
       "4           2      64           1       5  "
      ]
     },
     "execution_count": 2,
     "metadata": {},
     "output_type": "execute_result"
    }
   ],
   "source": [
    "# read csv file\n",
    "df = pd.read_csv(\"data/AER_credit_card_data.csv\")\n",
    "df.head()"
   ]
  },
  {
   "cell_type": "code",
   "execution_count": 3,
   "id": "4b982d8d",
   "metadata": {},
   "outputs": [
    {
     "name": "stdout",
     "output_type": "stream",
     "text": [
      "<class 'pandas.core.frame.DataFrame'>\n",
      "RangeIndex: 1319 entries, 0 to 1318\n",
      "Data columns (total 12 columns):\n",
      " #   Column       Non-Null Count  Dtype  \n",
      "---  ------       --------------  -----  \n",
      " 0   card         1319 non-null   object \n",
      " 1   reports      1319 non-null   int64  \n",
      " 2   age          1319 non-null   float64\n",
      " 3   income       1319 non-null   float64\n",
      " 4   share        1319 non-null   float64\n",
      " 5   expenditure  1319 non-null   float64\n",
      " 6   owner        1319 non-null   object \n",
      " 7   selfemp      1319 non-null   object \n",
      " 8   dependents   1319 non-null   int64  \n",
      " 9   months       1319 non-null   int64  \n",
      " 10  majorcards   1319 non-null   int64  \n",
      " 11  active       1319 non-null   int64  \n",
      "dtypes: float64(4), int64(5), object(3)\n",
      "memory usage: 123.8+ KB\n"
     ]
    }
   ],
   "source": [
    "df.info()"
   ]
  },
  {
   "cell_type": "code",
   "execution_count": 4,
   "id": "43fb7f6a",
   "metadata": {},
   "outputs": [
    {
     "data": {
      "text/plain": [
       "yes    1023\n",
       "no      296\n",
       "Name: card, dtype: int64"
      ]
     },
     "execution_count": 4,
     "metadata": {},
     "output_type": "execute_result"
    }
   ],
   "source": [
    "df.card.value_counts()"
   ]
  },
  {
   "cell_type": "code",
   "execution_count": 5,
   "id": "466bed6e",
   "metadata": {},
   "outputs": [],
   "source": [
    "# Create the target variable by mapping yes to 1 and no to 0.\n",
    "df.card = (df.card == 'yes').astype(int)"
   ]
  },
  {
   "cell_type": "code",
   "execution_count": 6,
   "id": "9153d900",
   "metadata": {},
   "outputs": [
    {
     "data": {
      "text/plain": [
       "1    1023\n",
       "0     296\n",
       "Name: card, dtype: int64"
      ]
     },
     "execution_count": 6,
     "metadata": {},
     "output_type": "execute_result"
    }
   ],
   "source": [
    "df.card.value_counts()"
   ]
  },
  {
   "cell_type": "code",
   "execution_count": 7,
   "id": "453a35af",
   "metadata": {},
   "outputs": [
    {
     "name": "stdout",
     "output_type": "stream",
     "text": [
      "<class 'pandas.core.frame.DataFrame'>\n",
      "RangeIndex: 1319 entries, 0 to 1318\n",
      "Data columns (total 12 columns):\n",
      " #   Column       Non-Null Count  Dtype  \n",
      "---  ------       --------------  -----  \n",
      " 0   card         1319 non-null   int64  \n",
      " 1   reports      1319 non-null   int64  \n",
      " 2   age          1319 non-null   float64\n",
      " 3   income       1319 non-null   float64\n",
      " 4   share        1319 non-null   float64\n",
      " 5   expenditure  1319 non-null   float64\n",
      " 6   owner        1319 non-null   object \n",
      " 7   selfemp      1319 non-null   object \n",
      " 8   dependents   1319 non-null   int64  \n",
      " 9   months       1319 non-null   int64  \n",
      " 10  majorcards   1319 non-null   int64  \n",
      " 11  active       1319 non-null   int64  \n",
      "dtypes: float64(4), int64(6), object(2)\n",
      "memory usage: 123.8+ KB\n"
     ]
    }
   ],
   "source": [
    "df.info()"
   ]
  },
  {
   "cell_type": "code",
   "execution_count": 8,
   "id": "7d9a5210",
   "metadata": {},
   "outputs": [],
   "source": [
    "# train / test split\n",
    "df_full_train, df_test = train_test_split(df, test_size=0.2, random_state=1)\n",
    "df_train, df_val = train_test_split(df_full_train, test_size=0.25, random_state=1)\n",
    "\n",
    "df_train = df_train.reset_index(drop=True)\n",
    "df_val = df_val.reset_index(drop=True)\n",
    "df_test = df_test.reset_index(drop=True)\n",
    "\n",
    "y_train = df_train.card.values\n",
    "y_val = df_val.card.values\n",
    "y_test = df_test.card.values\n",
    "\n",
    "del df_train['card']\n",
    "del df_val['card']\n",
    "del df_test['card']"
   ]
  },
  {
   "cell_type": "markdown",
   "id": "c87ffcf6",
   "metadata": {},
   "source": [
    "### Q1: Feature with highest ROC AUC"
   ]
  },
  {
   "cell_type": "code",
   "execution_count": 9,
   "id": "2d673132",
   "metadata": {},
   "outputs": [
    {
     "name": "stdout",
     "output_type": "stream",
     "text": [
      "reports 0.7136725386747742\n",
      "dependents 0.46847894125011175\n",
      "active 0.5479746043101136\n",
      "share 0.9856925690780649\n"
     ]
    }
   ],
   "source": [
    "num_vars = ['reports', 'dependents', 'active', 'share']\n",
    "\n",
    "for i in num_vars:\n",
    "    model = LogisticRegression()\n",
    "    model.fit(df_train[i].array.reshape(-1, 1), y_train)\n",
    "    y_pred = model.predict_proba(df_val[i].array.reshape(-1, 1))[:, 1]\n",
    "    print(i, roc_auc_score(y_val, y_pred))"
   ]
  },
  {
   "cell_type": "markdown",
   "id": "45d7d920",
   "metadata": {},
   "source": [
    "### Q2: AUC of the model "
   ]
  },
  {
   "cell_type": "code",
   "execution_count": 10,
   "id": "6116ef1f",
   "metadata": {},
   "outputs": [],
   "source": [
    "vars_model = [\"reports\", \"age\", \"income\", \"share\", \"expenditure\", \"dependents\", \"months\", \"majorcards\", \"active\", \"owner\", \"selfemp\"]"
   ]
  },
  {
   "cell_type": "code",
   "execution_count": 11,
   "id": "9df2f09a",
   "metadata": {},
   "outputs": [
    {
     "data": {
      "text/html": [
       "<style>#sk-container-id-1 {color: black;background-color: white;}#sk-container-id-1 pre{padding: 0;}#sk-container-id-1 div.sk-toggleable {background-color: white;}#sk-container-id-1 label.sk-toggleable__label {cursor: pointer;display: block;width: 100%;margin-bottom: 0;padding: 0.3em;box-sizing: border-box;text-align: center;}#sk-container-id-1 label.sk-toggleable__label-arrow:before {content: \"▸\";float: left;margin-right: 0.25em;color: #696969;}#sk-container-id-1 label.sk-toggleable__label-arrow:hover:before {color: black;}#sk-container-id-1 div.sk-estimator:hover label.sk-toggleable__label-arrow:before {color: black;}#sk-container-id-1 div.sk-toggleable__content {max-height: 0;max-width: 0;overflow: hidden;text-align: left;background-color: #f0f8ff;}#sk-container-id-1 div.sk-toggleable__content pre {margin: 0.2em;color: black;border-radius: 0.25em;background-color: #f0f8ff;}#sk-container-id-1 input.sk-toggleable__control:checked~div.sk-toggleable__content {max-height: 200px;max-width: 100%;overflow: auto;}#sk-container-id-1 input.sk-toggleable__control:checked~label.sk-toggleable__label-arrow:before {content: \"▾\";}#sk-container-id-1 div.sk-estimator input.sk-toggleable__control:checked~label.sk-toggleable__label {background-color: #d4ebff;}#sk-container-id-1 div.sk-label input.sk-toggleable__control:checked~label.sk-toggleable__label {background-color: #d4ebff;}#sk-container-id-1 input.sk-hidden--visually {border: 0;clip: rect(1px 1px 1px 1px);clip: rect(1px, 1px, 1px, 1px);height: 1px;margin: -1px;overflow: hidden;padding: 0;position: absolute;width: 1px;}#sk-container-id-1 div.sk-estimator {font-family: monospace;background-color: #f0f8ff;border: 1px dotted black;border-radius: 0.25em;box-sizing: border-box;margin-bottom: 0.5em;}#sk-container-id-1 div.sk-estimator:hover {background-color: #d4ebff;}#sk-container-id-1 div.sk-parallel-item::after {content: \"\";width: 100%;border-bottom: 1px solid gray;flex-grow: 1;}#sk-container-id-1 div.sk-label:hover label.sk-toggleable__label {background-color: #d4ebff;}#sk-container-id-1 div.sk-serial::before {content: \"\";position: absolute;border-left: 1px solid gray;box-sizing: border-box;top: 0;bottom: 0;left: 50%;z-index: 0;}#sk-container-id-1 div.sk-serial {display: flex;flex-direction: column;align-items: center;background-color: white;padding-right: 0.2em;padding-left: 0.2em;position: relative;}#sk-container-id-1 div.sk-item {position: relative;z-index: 1;}#sk-container-id-1 div.sk-parallel {display: flex;align-items: stretch;justify-content: center;background-color: white;position: relative;}#sk-container-id-1 div.sk-item::before, #sk-container-id-1 div.sk-parallel-item::before {content: \"\";position: absolute;border-left: 1px solid gray;box-sizing: border-box;top: 0;bottom: 0;left: 50%;z-index: -1;}#sk-container-id-1 div.sk-parallel-item {display: flex;flex-direction: column;z-index: 1;position: relative;background-color: white;}#sk-container-id-1 div.sk-parallel-item:first-child::after {align-self: flex-end;width: 50%;}#sk-container-id-1 div.sk-parallel-item:last-child::after {align-self: flex-start;width: 50%;}#sk-container-id-1 div.sk-parallel-item:only-child::after {width: 0;}#sk-container-id-1 div.sk-dashed-wrapped {border: 1px dashed gray;margin: 0 0.4em 0.5em 0.4em;box-sizing: border-box;padding-bottom: 0.4em;background-color: white;}#sk-container-id-1 div.sk-label label {font-family: monospace;font-weight: bold;display: inline-block;line-height: 1.2em;}#sk-container-id-1 div.sk-label-container {text-align: center;}#sk-container-id-1 div.sk-container {/* jupyter's `normalize.less` sets `[hidden] { display: none; }` but bootstrap.min.css set `[hidden] { display: none !important; }` so we also need the `!important` here to be able to override the default hidden behavior on the sphinx rendered scikit-learn.org. See: https://github.com/scikit-learn/scikit-learn/issues/21755 */display: inline-block !important;position: relative;}#sk-container-id-1 div.sk-text-repr-fallback {display: none;}</style><div id=\"sk-container-id-1\" class=\"sk-top-container\"><div class=\"sk-text-repr-fallback\"><pre>LogisticRegression(max_iter=1000, solver=&#x27;liblinear&#x27;)</pre><b>In a Jupyter environment, please rerun this cell to show the HTML representation or trust the notebook. <br />On GitHub, the HTML representation is unable to render, please try loading this page with nbviewer.org.</b></div><div class=\"sk-container\" hidden><div class=\"sk-item\"><div class=\"sk-estimator sk-toggleable\"><input class=\"sk-toggleable__control sk-hidden--visually\" id=\"sk-estimator-id-1\" type=\"checkbox\" checked><label for=\"sk-estimator-id-1\" class=\"sk-toggleable__label sk-toggleable__label-arrow\">LogisticRegression</label><div class=\"sk-toggleable__content\"><pre>LogisticRegression(max_iter=1000, solver=&#x27;liblinear&#x27;)</pre></div></div></div></div></div>"
      ],
      "text/plain": [
       "LogisticRegression(max_iter=1000, solver='liblinear')"
      ]
     },
     "execution_count": 11,
     "metadata": {},
     "output_type": "execute_result"
    }
   ],
   "source": [
    "dv = DictVectorizer(sparse=False)\n",
    "train_dict = df_train[vars_model].to_dict(orient='records')\n",
    "X_train = dv.fit_transform(train_dict)\n",
    "\n",
    "model = LogisticRegression(solver='liblinear', C=1.0, max_iter=1000)\n",
    "model.fit(X_train, y_train)"
   ]
  },
  {
   "cell_type": "code",
   "execution_count": 12,
   "id": "2ff93d35",
   "metadata": {},
   "outputs": [
    {
     "data": {
      "text/plain": [
       "0.995"
      ]
     },
     "execution_count": 12,
     "metadata": {},
     "output_type": "execute_result"
    }
   ],
   "source": [
    "val_dict = df_val[vars_model].to_dict(orient='records')\n",
    "X_val = dv.transform(val_dict)\n",
    "\n",
    "y_pred = model.predict_proba(X_val)[:, 1]\n",
    "fpr, tpr, thresholds = roc_curve(y_val, y_pred)\n",
    "auc(fpr, tpr).round(3)"
   ]
  },
  {
   "cell_type": "markdown",
   "id": "9675f1fe",
   "metadata": {},
   "source": [
    "### Q3: Where precision and recall meet?"
   ]
  },
  {
   "cell_type": "code",
   "execution_count": 13,
   "id": "31d9a761",
   "metadata": {},
   "outputs": [
    {
     "name": "stdout",
     "output_type": "stream",
     "text": [
      "0.00 0.799 1.000\n",
      "0.01 0.861 1.000\n",
      "0.02 0.872 1.000\n",
      "0.03 0.898 1.000\n",
      "0.04 0.906 1.000\n",
      "0.05 0.906 1.000\n",
      "0.06 0.917 1.000\n",
      "0.07 0.917 1.000\n",
      "0.08 0.921 0.995\n",
      "0.09 0.921 0.995\n",
      "0.10 0.925 0.995\n",
      "0.11 0.925 0.995\n",
      "0.12 0.925 0.995\n",
      "0.13 0.950 0.995\n",
      "0.14 0.959 0.986\n",
      "0.15 0.959 0.986\n",
      "0.16 0.967 0.986\n",
      "0.17 0.967 0.986\n",
      "0.18 0.972 0.981\n",
      "0.19 0.976 0.981\n",
      "0.20 0.976 0.981\n",
      "0.21 0.976 0.981\n",
      "0.22 0.976 0.981\n",
      "0.23 0.976 0.981\n",
      "0.24 0.976 0.976\n",
      "0.25 0.976 0.976\n",
      "0.26 0.976 0.976\n",
      "0.27 0.976 0.976\n",
      "0.28 0.976 0.976\n",
      "0.29 0.976 0.976\n",
      "0.30 0.976 0.972\n",
      "0.31 0.981 0.972\n",
      "0.32 0.981 0.972\n",
      "0.33 0.981 0.972\n",
      "0.34 0.990 0.972\n",
      "0.35 0.995 0.972\n",
      "0.36 0.995 0.972\n",
      "0.37 0.995 0.972\n",
      "0.38 0.995 0.972\n",
      "0.39 0.995 0.972\n",
      "0.40 0.995 0.972\n",
      "0.41 0.995 0.972\n",
      "0.42 0.995 0.967\n",
      "0.43 0.995 0.967\n",
      "0.44 0.995 0.967\n",
      "0.45 0.995 0.967\n",
      "0.46 0.995 0.967\n",
      "0.47 0.995 0.967\n",
      "0.48 0.995 0.967\n",
      "0.49 0.995 0.967\n",
      "0.50 0.995 0.967\n",
      "0.51 0.995 0.967\n",
      "0.52 0.995 0.967\n",
      "0.53 0.995 0.967\n",
      "0.54 0.995 0.967\n",
      "0.55 0.995 0.967\n",
      "0.56 0.995 0.967\n",
      "0.57 0.995 0.967\n",
      "0.58 0.995 0.967\n",
      "0.59 0.995 0.967\n",
      "0.60 0.995 0.967\n",
      "0.61 0.995 0.967\n",
      "0.62 0.995 0.967\n",
      "0.63 0.995 0.967\n",
      "0.64 0.995 0.967\n",
      "0.65 0.995 0.967\n",
      "0.66 0.995 0.967\n",
      "0.67 0.995 0.967\n",
      "0.68 0.995 0.967\n",
      "0.69 0.995 0.967\n",
      "0.70 0.995 0.967\n",
      "0.71 0.995 0.967\n",
      "0.72 0.995 0.967\n",
      "0.73 0.995 0.967\n",
      "0.74 0.995 0.967\n",
      "0.75 0.995 0.967\n",
      "0.76 0.995 0.967\n",
      "0.77 0.995 0.967\n",
      "0.78 0.995 0.967\n",
      "0.79 0.995 0.967\n",
      "0.80 0.995 0.967\n",
      "0.81 0.995 0.967\n",
      "0.82 0.995 0.967\n",
      "0.83 0.995 0.967\n",
      "0.84 0.995 0.967\n",
      "0.85 1.000 0.967\n",
      "0.86 1.000 0.967\n",
      "0.87 1.000 0.967\n",
      "0.88 1.000 0.967\n",
      "0.89 1.000 0.967\n",
      "0.90 1.000 0.967\n",
      "0.91 1.000 0.967\n",
      "0.92 1.000 0.967\n",
      "0.93 1.000 0.967\n",
      "0.94 1.000 0.967\n",
      "0.95 1.000 0.967\n",
      "0.96 1.000 0.967\n",
      "0.97 1.000 0.962\n",
      "0.98 1.000 0.962\n",
      "0.99 1.000 0.957\n",
      "1.00 1.000 0.848\n"
     ]
    }
   ],
   "source": [
    "thresholds = np.arange(0.0, 1.01, 0.01)\n",
    "\n",
    "scores_p = []\n",
    "scores_r = []\n",
    "\n",
    "for t in thresholds:\n",
    "    precision = precision_score(y_val, y_pred >= t)\n",
    "    recall = recall_score(y_val, y_pred >= t)\n",
    "    print('%.2f %.3f %.3f' % (t, precision, recall))\n",
    "    scores_p.append(precision)\n",
    "    scores_r.append(recall)"
   ]
  },
  {
   "cell_type": "code",
   "execution_count": 14,
   "id": "7961fdec",
   "metadata": {},
   "outputs": [
    {
     "data": {
      "image/png": "[encoded data removed]",
      "text/plain": [
       "<Figure size 640x480 with 1 Axes>"
      ]
     },
     "metadata": {},
     "output_type": "display_data"
    }
   ],
   "source": [
    "plt.plot(thresholds, scores_p, label='Precision')\n",
    "plt.plot(thresholds, scores_r, label='Recall')\n",
    "plt.legend();"
   ]
  },
  {
   "cell_type": "markdown",
   "id": "3db122fb",
   "metadata": {},
   "source": [
    "### Q4: F1 score"
   ]
  },
  {
   "cell_type": "code",
   "execution_count": 15,
   "id": "36d8cff8",
   "metadata": {},
   "outputs": [
    {
     "name": "stdout",
     "output_type": "stream",
     "text": [
      "0.00 0.888\n",
      "0.01 0.925\n",
      "0.02 0.932\n",
      "0.03 0.946\n",
      "0.04 0.950\n",
      "0.05 0.950\n",
      "0.06 0.957\n",
      "0.07 0.957\n",
      "0.08 0.957\n",
      "0.09 0.957\n",
      "0.10 0.959\n",
      "0.11 0.959\n",
      "0.12 0.959\n",
      "0.13 0.972\n",
      "0.14 0.972\n",
      "0.15 0.972\n",
      "0.16 0.977\n",
      "0.17 0.977\n",
      "0.18 0.976\n",
      "0.19 0.979\n",
      "0.20 0.979\n",
      "0.21 0.979\n",
      "0.22 0.979\n",
      "0.23 0.979\n",
      "0.24 0.976\n",
      "0.25 0.976\n",
      "0.26 0.976\n",
      "0.27 0.976\n",
      "0.28 0.976\n",
      "0.29 0.976\n",
      "0.30 0.974\n",
      "0.31 0.976\n",
      "0.32 0.976\n",
      "0.33 0.976\n",
      "0.34 0.981\n",
      "0.35 0.983\n",
      "0.36 0.983\n",
      "0.37 0.983\n",
      "0.38 0.983\n",
      "0.39 0.983\n",
      "0.40 0.983\n",
      "0.41 0.983\n",
      "0.42 0.981\n",
      "0.43 0.981\n",
      "0.44 0.981\n",
      "0.45 0.981\n",
      "0.46 0.981\n",
      "0.47 0.981\n",
      "0.48 0.981\n",
      "0.49 0.981\n",
      "0.50 0.981\n",
      "0.51 0.981\n",
      "0.52 0.981\n",
      "0.53 0.981\n",
      "0.54 0.981\n",
      "0.55 0.981\n",
      "0.56 0.981\n",
      "0.57 0.981\n",
      "0.58 0.981\n",
      "0.59 0.981\n",
      "0.60 0.981\n",
      "0.61 0.981\n",
      "0.62 0.981\n",
      "0.63 0.981\n",
      "0.64 0.981\n",
      "0.65 0.981\n",
      "0.66 0.981\n",
      "0.67 0.981\n",
      "0.68 0.981\n",
      "0.69 0.981\n",
      "0.70 0.981\n",
      "0.71 0.981\n",
      "0.72 0.981\n",
      "0.73 0.981\n",
      "0.74 0.981\n",
      "0.75 0.981\n",
      "0.76 0.981\n",
      "0.77 0.981\n",
      "0.78 0.981\n",
      "0.79 0.981\n",
      "0.80 0.981\n",
      "0.81 0.981\n",
      "0.82 0.981\n",
      "0.83 0.981\n",
      "0.84 0.981\n",
      "0.85 0.983\n",
      "0.86 0.983\n",
      "0.87 0.983\n",
      "0.88 0.983\n",
      "0.89 0.983\n",
      "0.90 0.983\n",
      "0.91 0.983\n",
      "0.92 0.983\n",
      "0.93 0.983\n",
      "0.94 0.983\n",
      "0.95 0.983\n",
      "0.96 0.983\n",
      "0.97 0.981\n",
      "0.98 0.981\n",
      "0.99 0.978\n",
      "1.00 0.918\n"
     ]
    }
   ],
   "source": [
    "thresholds = np.arange(0.0, 1.01, 0.01)\n",
    "\n",
    "scores = []\n",
    "\n",
    "for t in thresholds:\n",
    "    f1 = f1_score(y_val, y_pred >= t)\n",
    "    print('%.2f %.3f' % (t, f1))\n",
    "    scores.append(f1)"
   ]
  },
  {
   "cell_type": "markdown",
   "id": "9b40b355",
   "metadata": {},
   "source": [
    "### Q5: Standard deviation with KFold"
   ]
  },
  {
   "cell_type": "code",
   "execution_count": 16,
   "id": "952b9334",
   "metadata": {},
   "outputs": [],
   "source": [
    "def train(df_train, y_train, C=1.0):\n",
    "    dicts = df_train[vars_model].to_dict(orient='records')\n",
    "\n",
    "    dv = DictVectorizer(sparse=False)\n",
    "    X_train = dv.fit_transform(dicts)\n",
    "\n",
    "    model = LogisticRegression(solver='liblinear', C=C, max_iter=1000)\n",
    "    model.fit(X_train, y_train)\n",
    "    \n",
    "    return dv, model"
   ]
  },
  {
   "cell_type": "code",
   "execution_count": 17,
   "id": "94d6e82b",
   "metadata": {},
   "outputs": [],
   "source": [
    "def predict(df, dv, model):\n",
    "    dicts = df[vars_model].to_dict(orient='records')\n",
    "\n",
    "    X = dv.transform(dicts)\n",
    "    y_pred = model.predict_proba(X)[:, 1]\n",
    "\n",
    "    return y_pred"
   ]
  },
  {
   "cell_type": "code",
   "execution_count": 18,
   "id": "5dcc691c",
   "metadata": {},
   "outputs": [],
   "source": [
    "kfold = KFold(n_splits=5, shuffle=True, random_state=1)\n",
    "\n",
    "scores = []\n",
    "\n",
    "for train_idx, val_idx in kfold.split(df_full_train):\n",
    "    df_train = df_full_train.iloc[train_idx]\n",
    "    df_val = df_full_train.iloc[val_idx]\n",
    "    \n",
    "    y_train = df_train.card.values\n",
    "    y_val = df_val.card.values\n",
    "    \n",
    "    dv, model = train(df_train, y_train)\n",
    "    y_pred = predict(df_val, dv, model)\n",
    "    \n",
    "    auc = roc_auc_score(y_val, y_pred)\n",
    "    scores.append(auc)"
   ]
  },
  {
   "cell_type": "code",
   "execution_count": 19,
   "id": "245bb938",
   "metadata": {},
   "outputs": [
    {
     "data": {
      "text/plain": [
       "0.003"
      ]
     },
     "execution_count": 19,
     "metadata": {},
     "output_type": "execute_result"
    }
   ],
   "source": [
    "np.std(scores).round(3)"
   ]
  },
  {
   "cell_type": "markdown",
   "id": "85e88a52",
   "metadata": {},
   "source": [
    "### Q6: Best C"
   ]
  },
  {
   "cell_type": "code",
   "execution_count": 20,
   "id": "215c7d11",
   "metadata": {},
   "outputs": [
    {
     "data": {
      "application/vnd.jupyter.widget-view+json": {
       "model_id": "daaf56a6f9cd4e758ef6b964837af3c5",
       "version_major": 2,
       "version_minor": 0
      },
      "text/plain": [
       "  0%|          | 0/4 [00:00<?, ?it/s]"
      ]
     },
     "metadata": {},
     "output_type": "display_data"
    },
    {
     "name": "stdout",
     "output_type": "stream",
     "text": [
      "C=0.01 0.992 +- 0.006\n",
      "C=0.1 0.995 +- 0.004\n",
      "C=1 0.996 +- 0.003\n",
      "C=10 0.996 +- 0.003\n"
     ]
    }
   ],
   "source": [
    "for C in tqdm([0.01, 0.1, 1, 10]):\n",
    "    kfold = KFold(n_splits=5, shuffle=True, random_state=1)\n",
    "\n",
    "    scores = []\n",
    "\n",
    "    for train_idx, val_idx in kfold.split(df_full_train):\n",
    "        df_train = df_full_train.iloc[train_idx]\n",
    "        df_val = df_full_train.iloc[val_idx]\n",
    "\n",
    "        y_train = df_train.card.values\n",
    "        y_val = df_val.card.values\n",
    "\n",
    "        dv, model = train(df_train, y_train, C=C)\n",
    "        y_pred = predict(df_val, dv, model)\n",
    "\n",
    "        auc = roc_auc_score(y_val, y_pred)\n",
    "        scores.append(auc)\n",
    "\n",
    "    print('C=%s %.3f +- %.3f' % (C, np.mean(scores), np.std(scores)))"
   ]
  },
  {
   "cell_type": "code",
   "execution_count": null,
   "id": "b3e5c0f6",
   "metadata": {},
   "outputs": [],
   "source": []
  }
 ],
 "metadata": {
  "kernelspec": {
   "display_name": "Python 3 (ipykernel)",
   "language": "python",
   "name": "python3"
  },
  "language_info": {
   "codemirror_mode": {
    "name": "ipython",
    "version": 3
   },
   "file_extension": ".py",
   "mimetype": "text/x-python",
   "name": "python",
   "nbconvert_exporter": "python",
   "pygments_lexer": "ipython3",
   "version": "3.9.13"
  }
 },
 "nbformat": 4,
 "nbformat_minor": 5
}
