{
 "cells": [
  {
   "cell_type": "code",
   "execution_count": 11,
   "id": "4dae8c3d-a67a-43a5-9496-9a0041afb539",
   "metadata": {},
   "outputs": [],
   "source": [
    "import pandas as pd\n",
    "import numpy as np\n",
    "import matplotlib.pyplot as plt\n",
    "import seaborn as sns"
   ]
  },
  {
   "cell_type": "code",
   "execution_count": 4,
   "id": "d6d5b5e2-5bd0-4ae9-aa66-20e4985b9535",
   "metadata": {},
   "outputs": [
    {
     "data": {
      "text/html": [
       "<div>\n",
       "<style scoped>\n",
       "    .dataframe tbody tr th:only-of-type {\n",
       "        vertical-align: middle;\n",
       "    }\n",
       "\n",
       "    .dataframe tbody tr th {\n",
       "        vertical-align: top;\n",
       "    }\n",
       "\n",
       "    .dataframe thead th {\n",
       "        text-align: right;\n",
       "    }\n",
       "</style>\n",
       "<table border=\"1\" class=\"dataframe\">\n",
       "  <thead>\n",
       "    <tr style=\"text-align: right;\">\n",
       "      <th></th>\n",
       "      <th>engine_displacement</th>\n",
       "      <th>horsepower</th>\n",
       "      <th>vehicle_weight</th>\n",
       "      <th>model_year</th>\n",
       "      <th>fuel_efficiency_mpg</th>\n",
       "    </tr>\n",
       "  </thead>\n",
       "  <tbody>\n",
       "    <tr>\n",
       "      <th>0</th>\n",
       "      <td>170</td>\n",
       "      <td>159.0</td>\n",
       "      <td>3413.433759</td>\n",
       "      <td>2003</td>\n",
       "      <td>13.231729</td>\n",
       "    </tr>\n",
       "    <tr>\n",
       "      <th>1</th>\n",
       "      <td>130</td>\n",
       "      <td>97.0</td>\n",
       "      <td>3149.664934</td>\n",
       "      <td>2007</td>\n",
       "      <td>13.688217</td>\n",
       "    </tr>\n",
       "    <tr>\n",
       "      <th>2</th>\n",
       "      <td>170</td>\n",
       "      <td>78.0</td>\n",
       "      <td>3079.038997</td>\n",
       "      <td>2018</td>\n",
       "      <td>14.246341</td>\n",
       "    </tr>\n",
       "    <tr>\n",
       "      <th>3</th>\n",
       "      <td>220</td>\n",
       "      <td>NaN</td>\n",
       "      <td>2542.392402</td>\n",
       "      <td>2009</td>\n",
       "      <td>16.912736</td>\n",
       "    </tr>\n",
       "    <tr>\n",
       "      <th>4</th>\n",
       "      <td>210</td>\n",
       "      <td>140.0</td>\n",
       "      <td>3460.870990</td>\n",
       "      <td>2009</td>\n",
       "      <td>12.488369</td>\n",
       "    </tr>\n",
       "  </tbody>\n",
       "</table>\n",
       "</div>"
      ],
      "text/plain": [
       "   engine_displacement  horsepower  vehicle_weight  model_year  \\\n",
       "0                  170       159.0     3413.433759        2003   \n",
       "1                  130        97.0     3149.664934        2007   \n",
       "2                  170        78.0     3079.038997        2018   \n",
       "3                  220         NaN     2542.392402        2009   \n",
       "4                  210       140.0     3460.870990        2009   \n",
       "\n",
       "   fuel_efficiency_mpg  \n",
       "0            13.231729  \n",
       "1            13.688217  \n",
       "2            14.246341  \n",
       "3            16.912736  \n",
       "4            12.488369  "
      ]
     },
     "execution_count": 4,
     "metadata": {},
     "output_type": "execute_result"
    }
   ],
   "source": [
    "data = pd.read_csv(\"car_fuel_efficiency.csv\", \n",
    "                   usecols=['engine_displacement', 'horsepower', 'vehicle_weight', 'model_year', 'fuel_efficiency_mpg'])\n",
    "data.head()"
   ]
  },
  {
   "cell_type": "code",
   "execution_count": 5,
   "id": "ef3c69d7-45aa-4e6e-b801-0cf2753699b1",
   "metadata": {},
   "outputs": [
    {
     "name": "stdout",
     "output_type": "stream",
     "text": [
      "<class 'pandas.core.frame.DataFrame'>\n",
      "RangeIndex: 9704 entries, 0 to 9703\n",
      "Data columns (total 5 columns):\n",
      " #   Column               Non-Null Count  Dtype  \n",
      "---  ------               --------------  -----  \n",
      " 0   engine_displacement  9704 non-null   int64  \n",
      " 1   horsepower           8996 non-null   float64\n",
      " 2   vehicle_weight       9704 non-null   float64\n",
      " 3   model_year           9704 non-null   int64  \n",
      " 4   fuel_efficiency_mpg  9704 non-null   float64\n",
      "dtypes: float64(3), int64(2)\n",
      "memory usage: 379.2 KB\n"
     ]
    }
   ],
   "source": [
    "data.info()"
   ]
  },
  {
   "cell_type": "code",
   "execution_count": 6,
   "id": "d9d55786-c8c8-43fe-b318-9fcc72099a48",
   "metadata": {},
   "outputs": [
    {
     "data": {
      "text/html": [
       "<div>\n",
       "<style scoped>\n",
       "    .dataframe tbody tr th:only-of-type {\n",
       "        vertical-align: middle;\n",
       "    }\n",
       "\n",
       "    .dataframe tbody tr th {\n",
       "        vertical-align: top;\n",
       "    }\n",
       "\n",
       "    .dataframe thead th {\n",
       "        text-align: right;\n",
       "    }\n",
       "</style>\n",
       "<table border=\"1\" class=\"dataframe\">\n",
       "  <thead>\n",
       "    <tr style=\"text-align: right;\">\n",
       "      <th></th>\n",
       "      <th>engine_displacement</th>\n",
       "      <th>horsepower</th>\n",
       "      <th>vehicle_weight</th>\n",
       "      <th>model_year</th>\n",
       "      <th>fuel_efficiency_mpg</th>\n",
       "    </tr>\n",
       "  </thead>\n",
       "  <tbody>\n",
       "    <tr>\n",
       "      <th>count</th>\n",
       "      <td>9704.000000</td>\n",
       "      <td>8996.000000</td>\n",
       "      <td>9704.000000</td>\n",
       "      <td>9704.000000</td>\n",
       "      <td>9704.000000</td>\n",
       "    </tr>\n",
       "    <tr>\n",
       "      <th>mean</th>\n",
       "      <td>199.708368</td>\n",
       "      <td>149.657292</td>\n",
       "      <td>3001.280993</td>\n",
       "      <td>2011.484027</td>\n",
       "      <td>14.985243</td>\n",
       "    </tr>\n",
       "    <tr>\n",
       "      <th>std</th>\n",
       "      <td>49.455319</td>\n",
       "      <td>29.879555</td>\n",
       "      <td>497.894860</td>\n",
       "      <td>6.659808</td>\n",
       "      <td>2.556468</td>\n",
       "    </tr>\n",
       "    <tr>\n",
       "      <th>min</th>\n",
       "      <td>10.000000</td>\n",
       "      <td>37.000000</td>\n",
       "      <td>952.681761</td>\n",
       "      <td>2000.000000</td>\n",
       "      <td>6.200971</td>\n",
       "    </tr>\n",
       "    <tr>\n",
       "      <th>25%</th>\n",
       "      <td>170.000000</td>\n",
       "      <td>130.000000</td>\n",
       "      <td>2666.248985</td>\n",
       "      <td>2006.000000</td>\n",
       "      <td>13.267459</td>\n",
       "    </tr>\n",
       "    <tr>\n",
       "      <th>50%</th>\n",
       "      <td>200.000000</td>\n",
       "      <td>149.000000</td>\n",
       "      <td>2993.226296</td>\n",
       "      <td>2012.000000</td>\n",
       "      <td>15.006037</td>\n",
       "    </tr>\n",
       "    <tr>\n",
       "      <th>75%</th>\n",
       "      <td>230.000000</td>\n",
       "      <td>170.000000</td>\n",
       "      <td>3334.957039</td>\n",
       "      <td>2017.000000</td>\n",
       "      <td>16.707965</td>\n",
       "    </tr>\n",
       "    <tr>\n",
       "      <th>max</th>\n",
       "      <td>380.000000</td>\n",
       "      <td>271.000000</td>\n",
       "      <td>4739.077089</td>\n",
       "      <td>2023.000000</td>\n",
       "      <td>25.967222</td>\n",
       "    </tr>\n",
       "  </tbody>\n",
       "</table>\n",
       "</div>"
      ],
      "text/plain": [
       "       engine_displacement   horsepower  vehicle_weight   model_year  \\\n",
       "count          9704.000000  8996.000000     9704.000000  9704.000000   \n",
       "mean            199.708368   149.657292     3001.280993  2011.484027   \n",
       "std              49.455319    29.879555      497.894860     6.659808   \n",
       "min              10.000000    37.000000      952.681761  2000.000000   \n",
       "25%             170.000000   130.000000     2666.248985  2006.000000   \n",
       "50%             200.000000   149.000000     2993.226296  2012.000000   \n",
       "75%             230.000000   170.000000     3334.957039  2017.000000   \n",
       "max             380.000000   271.000000     4739.077089  2023.000000   \n",
       "\n",
       "       fuel_efficiency_mpg  \n",
       "count          9704.000000  \n",
       "mean             14.985243  \n",
       "std               2.556468  \n",
       "min               6.200971  \n",
       "25%              13.267459  \n",
       "50%              15.006037  \n",
       "75%              16.707965  \n",
       "max              25.967222  "
      ]
     },
     "execution_count": 6,
     "metadata": {},
     "output_type": "execute_result"
    }
   ],
   "source": [
    "data.describe()"
   ]
  },
  {
   "cell_type": "code",
   "execution_count": 8,
   "id": "2bc4a971-cf26-41c5-96e9-b1151ac35783",
   "metadata": {},
   "outputs": [
    {
     "data": {
      "image/png": "[encoded data removed]",
      "text/plain": [
       "<Figure size 640x480 with 1 Axes>"
      ]
     },
     "metadata": {},
     "output_type": "display_data"
    }
   ],
   "source": [
    "data.hist('fuel_efficiency_mpg', bins='auto')\n",
    "plt.show()"
   ]
  },
  {
   "cell_type": "code",
   "execution_count": 9,
   "id": "a898b5af-04da-49b0-b0ff-2364349c70a9",
   "metadata": {},
   "outputs": [
    {
     "data": {
      "text/plain": [
       "['horsepower']"
      ]
     },
     "execution_count": 9,
     "metadata": {},
     "output_type": "execute_result"
    }
   ],
   "source": [
    "# Q1\n",
    "na_cols = [feat for feat in data.columns if data[feat].isna().sum() > 0]\n",
    "na_cols"
   ]
  },
  {
   "cell_type": "code",
   "execution_count": 10,
   "id": "c7136710-1a20-4d35-844e-fed79ad4b245",
   "metadata": {},
   "outputs": [
    {
     "data": {
      "text/plain": [
       "np.float64(149.0)"
      ]
     },
     "execution_count": 10,
     "metadata": {},
     "output_type": "execute_result"
    }
   ],
   "source": [
    "# Q2\n",
    "data['horsepower'].median()"
   ]
  },
  {
   "cell_type": "code",
   "execution_count": 12,
   "id": "1a1319a5-9afd-44bb-8a22-fabe6765991d",
   "metadata": {},
   "outputs": [
    {
     "data": {
      "text/plain": [
       "(9704, 5824, 1940, 1940, 9704)"
      ]
     },
     "execution_count": 12,
     "metadata": {},
     "output_type": "execute_result"
    }
   ],
   "source": [
    "# shuffle\n",
    "np.random.seed(42)\n",
    "n = len(data)\n",
    "\n",
    "n_val = int(n * 0.2)\n",
    "n_test = int(n * 0.2)\n",
    "n_train = n - n_val - n_test\n",
    "\n",
    "idx = np.arange(n)\n",
    "np.random.shuffle(idx)\n",
    "\n",
    "n, n_train, n_val, n_test, n_train + n_val + n_test"
   ]
  },
  {
   "cell_type": "code",
   "execution_count": 13,
   "id": "d6b5e219-864c-46e0-aca8-fa7a58de9e99",
   "metadata": {},
   "outputs": [
    {
     "data": {
      "text/plain": [
       "((5824, 5), (1940, 5), (1940, 5))"
      ]
     },
     "execution_count": 13,
     "metadata": {},
     "output_type": "execute_result"
    }
   ],
   "source": [
    "# split the data\n",
    "data_train = data.iloc[idx[:n_train]]\n",
    "data_val = data.iloc[idx[n_train:n_train + n_val]]\n",
    "data_test = data.iloc[idx[n_train + n_val:]]\n",
    "\n",
    "data_train.shape, data_val.shape, data_test.shape"
   ]
  },
  {
   "cell_type": "code",
   "execution_count": 14,
   "id": "ca471813-f143-4183-bce3-62de26416ab2",
   "metadata": {},
   "outputs": [],
   "source": [
    "# reset index in dataframes\n",
    "data_train.reset_index(drop=True, inplace=True)\n",
    "data_val.reset_index(drop=True, inplace=True)\n",
    "data_test.reset_index(drop=True, inplace=True)"
   ]
  },
  {
   "cell_type": "code",
   "execution_count": 15,
   "id": "676301b7-ffbb-4a2e-a264-d51069e900fc",
   "metadata": {},
   "outputs": [
    {
     "data": {
      "text/html": [
       "<div>\n",
       "<style scoped>\n",
       "    .dataframe tbody tr th:only-of-type {\n",
       "        vertical-align: middle;\n",
       "    }\n",
       "\n",
       "    .dataframe tbody tr th {\n",
       "        vertical-align: top;\n",
       "    }\n",
       "\n",
       "    .dataframe thead th {\n",
       "        text-align: right;\n",
       "    }\n",
       "</style>\n",
       "<table border=\"1\" class=\"dataframe\">\n",
       "  <thead>\n",
       "    <tr style=\"text-align: right;\">\n",
       "      <th></th>\n",
       "      <th>engine_displacement</th>\n",
       "      <th>horsepower</th>\n",
       "      <th>vehicle_weight</th>\n",
       "      <th>model_year</th>\n",
       "      <th>fuel_efficiency_mpg</th>\n",
       "    </tr>\n",
       "  </thead>\n",
       "  <tbody>\n",
       "    <tr>\n",
       "      <th>1657</th>\n",
       "      <td>160</td>\n",
       "      <td>135.0</td>\n",
       "      <td>3015.217604</td>\n",
       "      <td>2013</td>\n",
       "      <td>14.259072</td>\n",
       "    </tr>\n",
       "    <tr>\n",
       "      <th>5533</th>\n",
       "      <td>130</td>\n",
       "      <td>155.0</td>\n",
       "      <td>3015.706934</td>\n",
       "      <td>2013</td>\n",
       "      <td>15.569343</td>\n",
       "    </tr>\n",
       "  </tbody>\n",
       "</table>\n",
       "</div>"
      ],
      "text/plain": [
       "      engine_displacement  horsepower  vehicle_weight  model_year  \\\n",
       "1657                  160       135.0     3015.217604        2013   \n",
       "5533                  130       155.0     3015.706934        2013   \n",
       "\n",
       "      fuel_efficiency_mpg  \n",
       "1657            14.259072  \n",
       "5533            15.569343  "
      ]
     },
     "execution_count": 15,
     "metadata": {},
     "output_type": "execute_result"
    }
   ],
   "source": [
    "data_train.sample(2)"
   ]
  },
  {
   "cell_type": "code",
   "execution_count": 16,
   "id": "f7d19f3b-9d2c-43f8-aaa3-aec1f932dbe3",
   "metadata": {},
   "outputs": [],
   "source": [
    "# log transformation\n",
    "y_train = np.log1p(data_train.fuel_efficiency_mpg)\n",
    "y_val = np.log1p(data_val.fuel_efficiency_mpg)\n",
    "y_test = np.log1p(data_test.fuel_efficiency_mpg)"
   ]
  },
  {
   "cell_type": "code",
   "execution_count": 17,
   "id": "71fe8332-555e-4698-bb19-bf6cc2f7e74a",
   "metadata": {},
   "outputs": [],
   "source": [
    "# delete target variable\n",
    "del data_train['fuel_efficiency_mpg']\n",
    "del data_val['fuel_efficiency_mpg']\n",
    "del data_test['fuel_efficiency_mpg']"
   ]
  },
  {
   "cell_type": "code",
   "execution_count": 48,
   "id": "a4dac071-cd66-4274-a5eb-b7b189fbc2ee",
   "metadata": {},
   "outputs": [],
   "source": [
    "# functions: NAs imputation with 0 and mean\n",
    "def prepare_X_fillna_value(df):\n",
    "    df['horsepower'] = df['horsepower'].fillna(0)\n",
    "    X = df.values\n",
    "    return X\n",
    "\n",
    "def prepare_X_fillna_mean(df):\n",
    "    df['horsepower'] = df['horsepower'].fillna(df['horsepower'].mean())\n",
    "    X = df.values\n",
    "    return X\n",
    "\n",
    "def train_linear_regression(X, y):\n",
    "    ones = np.ones(X.shape[0])\n",
    "    X = np.column_stack([ones, X])\n",
    "\n",
    "    XTX = X.T.dot(X)\n",
    "    XTX_inv = np.linalg.inv(XTX)\n",
    "    w_full = XTX_inv.dot(X.T).dot(y)\n",
    "    return w_full[0], w_full[1:]\n",
    "\n",
    "def rmse(y, y_pred):\n",
    "    se = (y - y_pred) ** 2\n",
    "    mse = se.mean()\n",
    "    return np.sqrt(mse)"
   ]
  },
  {
   "cell_type": "code",
   "execution_count": 49,
   "id": "75f2c2aa-95be-4249-8ed6-32e5646c06fb",
   "metadata": {},
   "outputs": [
    {
     "name": "stderr",
     "output_type": "stream",
     "text": [
      "/var/folders/w3/89f27g595491mxdhd1r3_q040000gn/T/ipykernel_89308/2482232297.py:3: SettingWithCopyWarning: \n",
      "A value is trying to be set on a copy of a slice from a DataFrame.\n",
      "Try using .loc[row_indexer,col_indexer] = value instead\n",
      "\n",
      "See the caveats in the documentation: https://pandas.pydata.org/pandas-docs/stable/user_guide/indexing.html#returning-a-view-versus-a-copy\n",
      "  df['horsepower'] = df['horsepower'].fillna(0)\n"
     ]
    },
    {
     "data": {
      "text/plain": [
       "np.float64(0.04)"
      ]
     },
     "execution_count": 49,
     "metadata": {},
     "output_type": "execute_result"
    }
   ],
   "source": [
    "# Option 1\n",
    "X_train = prepare_X_fillna_value(data_train)\n",
    "w0, w = train_linear_regression(X_train, y_train)\n",
    "\n",
    "X_val = prepare_X(data_val)\n",
    "y_pred = w0 + X_val.dot(w)\n",
    "rmse(y_val, y_pred).round(2)"
   ]
  },
  {
   "cell_type": "code",
   "execution_count": 50,
   "id": "c0d01e54-c40d-429d-b0d7-af242aeb1ead",
   "metadata": {},
   "outputs": [
    {
     "name": "stderr",
     "output_type": "stream",
     "text": [
      "/var/folders/w3/89f27g595491mxdhd1r3_q040000gn/T/ipykernel_89308/2482232297.py:8: SettingWithCopyWarning: \n",
      "A value is trying to be set on a copy of a slice from a DataFrame.\n",
      "Try using .loc[row_indexer,col_indexer] = value instead\n",
      "\n",
      "See the caveats in the documentation: https://pandas.pydata.org/pandas-docs/stable/user_guide/indexing.html#returning-a-view-versus-a-copy\n",
      "  df['horsepower'] = df['horsepower'].fillna(df['horsepower'].mean())\n",
      "/var/folders/w3/89f27g595491mxdhd1r3_q040000gn/T/ipykernel_89308/360211719.py:3: SettingWithCopyWarning: \n",
      "A value is trying to be set on a copy of a slice from a DataFrame.\n",
      "Try using .loc[row_indexer,col_indexer] = value instead\n",
      "\n",
      "See the caveats in the documentation: https://pandas.pydata.org/pandas-docs/stable/user_guide/indexing.html#returning-a-view-versus-a-copy\n",
      "  df['horsepower'] = df['horsepower'].fillna(0)\n"
     ]
    },
    {
     "data": {
      "text/plain": [
       "np.float64(0.04)"
      ]
     },
     "execution_count": 50,
     "metadata": {},
     "output_type": "execute_result"
    }
   ],
   "source": [
    "# Option 2\n",
    "X_train = prepare_X_fillna_mean(data_train)\n",
    "w0, w = train_linear_regression(X_train, y_train)\n",
    "\n",
    "X_val = prepare_X(data_val)\n",
    "y_pred = w0 + X_val.dot(w)\n",
    "rmse(y_val, y_pred).round(2)"
   ]
  },
  {
   "cell_type": "code",
   "execution_count": 51,
   "id": "2d50abc7-464f-49a8-b3ea-b42f6afb059f",
   "metadata": {},
   "outputs": [],
   "source": [
    "# regularizarion\n",
    "def train_linear_regression_reg(X, y, r=0.001):\n",
    "    ones = np.ones(X.shape[0])\n",
    "    X = np.column_stack([ones, X])\n",
    "\n",
    "    XTX = X.T.dot(X)\n",
    "    XTX = XTX + r * np.eye(XTX.shape[0])\n",
    "    \n",
    "    XTX_inv = np.linalg.inv(XTX)\n",
    "    w_full = XTX_inv.dot(X.T).dot(y)\n",
    "    return w_full[0], w_full[1:]"
   ]
  },
  {
   "cell_type": "code",
   "execution_count": 59,
   "id": "731afd94-502e-436b-bfee-311959c7811d",
   "metadata": {},
   "outputs": [
    {
     "name": "stdout",
     "output_type": "stream",
     "text": [
      "r = 0, score = 0.04\n",
      "r = 0.01, score = 0.04\n",
      "r = 0.1, score = 0.04\n",
      "r = 1, score = 0.04\n",
      "r = 5, score = 0.04\n",
      "r = 10, score = 0.04\n",
      "r = 100, score = 0.04\n"
     ]
    },
    {
     "name": "stderr",
     "output_type": "stream",
     "text": [
      "/var/folders/w3/89f27g595491mxdhd1r3_q040000gn/T/ipykernel_89308/2482232297.py:3: SettingWithCopyWarning: \n",
      "A value is trying to be set on a copy of a slice from a DataFrame.\n",
      "Try using .loc[row_indexer,col_indexer] = value instead\n",
      "\n",
      "See the caveats in the documentation: https://pandas.pydata.org/pandas-docs/stable/user_guide/indexing.html#returning-a-view-versus-a-copy\n",
      "  df['horsepower'] = df['horsepower'].fillna(0)\n"
     ]
    }
   ],
   "source": [
    "# Q4\n",
    "X_train = prepare_X_fillna_value(data_train)\n",
    "X_val = prepare_X_fillna_value(data_val)\n",
    "\n",
    "for r in [0, 0.01, 0.1, 1, 5, 10, 100]:\n",
    "    w0, w = train_linear_regression_reg(X_train, y_train, r=r)\n",
    "    y_pred = w0 + X_val.dot(w)\n",
    "    score = rmse(y_val, y_pred).round(2)\n",
    "    print(f\"r = {r}, score = {score}\")"
   ]
  },
  {
   "cell_type": "code",
   "execution_count": 65,
   "id": "60aa88d1-d184-4258-a1d7-bb6dddbb331c",
   "metadata": {},
   "outputs": [
    {
     "name": "stdout",
     "output_type": "stream",
     "text": [
      "seed = 0, score = 0.038017755370878016\n",
      "seed = 1, score = 0.03927885333937289\n",
      "seed = 2, score = 0.039446530525595394\n",
      "seed = 3, score = 0.03872763703882251\n",
      "seed = 4, score = 0.03727535850105435\n",
      "seed = 5, score = 0.039384388339929174\n",
      "seed = 6, score = 0.03890763931346171\n",
      "seed = 7, score = 0.038379716269399754\n",
      "seed = 8, score = 0.04018986975346067\n",
      "seed = 9, score = 0.03860764644126977\n"
     ]
    },
    {
     "name": "stderr",
     "output_type": "stream",
     "text": [
      "/var/folders/w3/89f27g595491mxdhd1r3_q040000gn/T/ipykernel_89308/2482232297.py:3: SettingWithCopyWarning: \n",
      "A value is trying to be set on a copy of a slice from a DataFrame.\n",
      "Try using .loc[row_indexer,col_indexer] = value instead\n",
      "\n",
      "See the caveats in the documentation: https://pandas.pydata.org/pandas-docs/stable/user_guide/indexing.html#returning-a-view-versus-a-copy\n",
      "  df['horsepower'] = df['horsepower'].fillna(0)\n"
     ]
    }
   ],
   "source": [
    "# Q6\n",
    "tot_score = []\n",
    "\n",
    "for seed in [0, 1, 2, 3, 4, 5, 6, 7, 8, 9]:\n",
    "    np.random.seed(seed)\n",
    "    n = len(data)\n",
    "\n",
    "    n_val = int(n * 0.2)\n",
    "    n_test = int(n * 0.2)\n",
    "    n_train = n - n_val - n_test\n",
    "    idx = np.arange(n)\n",
    "    np.random.shuffle(idx)\n",
    "\n",
    "    # split the data\n",
    "    data_train = data.iloc[idx[:n_train]]\n",
    "    data_val = data.iloc[idx[n_train:n_train + n_val]]\n",
    "    data_test = data.iloc[idx[n_train + n_val:]]\n",
    "\n",
    "    # reset index in datasets\n",
    "    data_train.reset_index(drop=True, inplace=True)\n",
    "    data_val.reset_index(drop=True, inplace=True)\n",
    "    data_test.reset_index(drop=True, inplace=True)\n",
    "\n",
    "    # log transformation\n",
    "    y_train = np.log1p(data_train.fuel_efficiency_mpg)\n",
    "    y_val = np.log1p(data_val.fuel_efficiency_mpg)\n",
    "    y_test = np.log1p(data_test.fuel_efficiency_mpg)\n",
    "\n",
    "    # delete target variable\n",
    "    del data_train['fuel_efficiency_mpg']\n",
    "    del data_val['fuel_efficiency_mpg']\n",
    "    del data_test['fuel_efficiency_mpg']\n",
    "\n",
    "    X_train = prepare_X_fillna_value(data_train)\n",
    "    w0, w = train_linear_regression(X_train, y_train)\n",
    "    X_val = prepare_X_fillna_value(data_val)\n",
    "    y_pred = w0 + X_val.dot(w)\n",
    "    score = rmse(y_val, y_pred)\n",
    "    tot_score.append(score)\n",
    "    print(f\"seed = {seed}, score = {score}\")"
   ]
  },
  {
   "cell_type": "code",
   "execution_count": 66,
   "id": "a4cea855-3897-4040-bca9-27a238c77308",
   "metadata": {},
   "outputs": [
    {
     "data": {
      "text/plain": [
       "np.float64(0.001)"
      ]
     },
     "execution_count": 66,
     "metadata": {},
     "output_type": "execute_result"
    }
   ],
   "source": [
    "np.std(tot_score).round(3)"
   ]
  },
  {
   "cell_type": "code",
   "execution_count": 68,
   "id": "1f8aba45-87b1-431d-bff8-456c24966b49",
   "metadata": {},
   "outputs": [
    {
     "name": "stdout",
     "output_type": "stream",
     "text": [
      "0.04\n"
     ]
    },
    {
     "name": "stderr",
     "output_type": "stream",
     "text": [
      "/var/folders/w3/89f27g595491mxdhd1r3_q040000gn/T/ipykernel_89308/2482232297.py:3: SettingWithCopyWarning: \n",
      "A value is trying to be set on a copy of a slice from a DataFrame.\n",
      "Try using .loc[row_indexer,col_indexer] = value instead\n",
      "\n",
      "See the caveats in the documentation: https://pandas.pydata.org/pandas-docs/stable/user_guide/indexing.html#returning-a-view-versus-a-copy\n",
      "  df['horsepower'] = df['horsepower'].fillna(0)\n"
     ]
    }
   ],
   "source": [
    "# Q7\n",
    "# shuffle\n",
    "np.random.seed(9)\n",
    "n = len(data)\n",
    "\n",
    "n_val = int(n * 0.2)\n",
    "n_test = int(n * 0.2)\n",
    "n_train = n - n_val - n_test\n",
    "idx = np.arange(n)\n",
    "np.random.shuffle(idx)\n",
    "    \n",
    "# split the data\n",
    "data_train = data.iloc[idx[:n_train]]\n",
    "data_val = data.iloc[idx[n_train:n_train + n_val]]\n",
    "data_test = data.iloc[idx[n_train + n_val:]]\n",
    "    \n",
    "# reset index in df's\n",
    "data_train.reset_index(drop=True, inplace=True)\n",
    "data_val.reset_index(drop=True, inplace=True)\n",
    "data_test.reset_index(drop=True, inplace=True)\n",
    "    \n",
    "# log transformation\n",
    "y_train = np.log1p(data_train.fuel_efficiency_mpg)\n",
    "y_val = np.log1p(data_val.fuel_efficiency_mpg)\n",
    "y_test = np.log1p(data_test.fuel_efficiency_mpg)\n",
    "    \n",
    "# delete target variable\n",
    "del data_train['fuel_efficiency_mpg']\n",
    "del data_val['fuel_efficiency_mpg']\n",
    "del data_test['fuel_efficiency_mpg']\n",
    "\n",
    "# combine train and validation datasets\n",
    "data_full_train = pd.concat([data_train, data_val])\n",
    "data_full_train = data_full_train.reset_index(drop=True)\n",
    "y_full_train = np.concatenate([y_train, y_val])\n",
    "\n",
    "# appling functions\n",
    "X_data_full_train = prepare_X_fillna_value(data_full_train)\n",
    "w0, w = train_linear_regression_reg(X_data_full_train, y_full_train, r=0.001)\n",
    "X_test = prepare_X_fillna_value(data_test)\n",
    "y_pred = w0 + X_test.dot(w)\n",
    "score = rmse(y_test, y_pred).round(2)\n",
    "print(score)"
   ]
  },
  {
   "cell_type": "code",
   "execution_count": null,
   "id": "949b77e3-0305-4c11-94aa-a7423e4cfb78",
   "metadata": {},
   "outputs": [],
   "source": []
  }
 ],
 "metadata": {
  "kernelspec": {
   "display_name": "env-3.13",
   "language": "python",
   "name": "env-3.13"
  },
  "language_info": {
   "codemirror_mode": {
    "name": "ipython",
    "version": 3
   },
   "file_extension": ".py",
   "mimetype": "text/x-python",
   "name": "python",
   "nbconvert_exporter": "python",
   "pygments_lexer": "ipython3",
   "version": "3.13.7"
  }
 },
 "nbformat": 4,
 "nbformat_minor": 5
}
